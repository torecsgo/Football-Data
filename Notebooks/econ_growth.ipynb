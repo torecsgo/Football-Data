{
 "cells": [
  {
   "cell_type": "code",
   "execution_count": 1,
   "metadata": {},
   "outputs": [],
   "source": [
    "import pandas as pd\n",
    "import numpy as np\n",
    "import plotly.express as px"
   ]
  },
  {
   "cell_type": "code",
   "execution_count": 2,
   "metadata": {},
   "outputs": [],
   "source": [
    "df_laliga = pd.read_csv('../Leagues/2000_2024_LaLiga.csv')"
   ]
  },
  {
   "cell_type": "code",
   "execution_count": 3,
   "metadata": {},
   "outputs": [],
   "source": [
    "def convertir_valor(valor):\n",
    "    if isinstance(valor, str):\n",
    "        valor = valor.replace(\"€\", \"\").strip()  # Eliminar símbolo de moneda\n",
    "        if 'k' in valor:\n",
    "            return int(float(valor.replace(\"k\", \"\")) * 1_000)  # Miles\n",
    "        elif 'm' in valor:\n",
    "            return int(float(valor.replace(\"m\", \"\")) * 1_000_000)  # Millones\n",
    "        elif 'bn' in valor:\n",
    "            return int(float(valor.replace(\"bn\", \"\")) * 1_000_000_000)  # Billones\n",
    "    return valor  # Si no es una cadena, devolver tal cual\n",
    "\n",
    "\n",
    "def modificar_valores_nulos(valor):\n",
    "    if isinstance(valor, str) and valor.strip() == \"-\":\n",
    "        return np.nan  # Devuelve un NaN\n",
    "    return valor  # Devuelve el valor sin cambios si no es '-'"
   ]
  },
  {
   "cell_type": "code",
   "execution_count": 4,
   "metadata": {},
   "outputs": [
    {
     "data": {
      "text/html": [
       "<div>\n",
       "<style scoped>\n",
       "    .dataframe tbody tr th:only-of-type {\n",
       "        vertical-align: middle;\n",
       "    }\n",
       "\n",
       "    .dataframe tbody tr th {\n",
       "        vertical-align: top;\n",
       "    }\n",
       "\n",
       "    .dataframe thead th {\n",
       "        text-align: right;\n",
       "    }\n",
       "</style>\n",
       "<table border=\"1\" class=\"dataframe\">\n",
       "  <thead>\n",
       "    <tr style=\"text-align: right;\">\n",
       "      <th></th>\n",
       "      <th>Unnamed: 0</th>\n",
       "      <th>year</th>\n",
       "      <th>league</th>\n",
       "      <th>team</th>\n",
       "      <th>squad_depth</th>\n",
       "      <th>avg_age</th>\n",
       "      <th>foreigners</th>\n",
       "      <th>avg_market_value</th>\n",
       "      <th>market_value</th>\n",
       "      <th>titles</th>\n",
       "    </tr>\n",
       "  </thead>\n",
       "  <tbody>\n",
       "    <tr>\n",
       "      <th>0</th>\n",
       "      <td>0</td>\n",
       "      <td>2000</td>\n",
       "      <td>LaLiga</td>\n",
       "      <td>Real Sociedad</td>\n",
       "      <td>32</td>\n",
       "      <td>26.1</td>\n",
       "      <td>10</td>\n",
       "      <td>-</td>\n",
       "      <td>-</td>\n",
       "      <td>[]</td>\n",
       "    </tr>\n",
       "    <tr>\n",
       "      <th>1</th>\n",
       "      <td>1</td>\n",
       "      <td>2000</td>\n",
       "      <td>LaLiga</td>\n",
       "      <td>Real Oviedo</td>\n",
       "      <td>32</td>\n",
       "      <td>25.8</td>\n",
       "      <td>13</td>\n",
       "      <td>-</td>\n",
       "      <td>-</td>\n",
       "      <td>[]</td>\n",
       "    </tr>\n",
       "    <tr>\n",
       "      <th>2</th>\n",
       "      <td>2</td>\n",
       "      <td>2000</td>\n",
       "      <td>LaLiga</td>\n",
       "      <td>CD Numancia</td>\n",
       "      <td>27</td>\n",
       "      <td>27.5</td>\n",
       "      <td>7</td>\n",
       "      <td>-</td>\n",
       "      <td>-</td>\n",
       "      <td>[]</td>\n",
       "    </tr>\n",
       "    <tr>\n",
       "      <th>3</th>\n",
       "      <td>3</td>\n",
       "      <td>2000</td>\n",
       "      <td>LaLiga</td>\n",
       "      <td>Deportivo Alavés</td>\n",
       "      <td>27</td>\n",
       "      <td>26.6</td>\n",
       "      <td>13</td>\n",
       "      <td>-</td>\n",
       "      <td>-</td>\n",
       "      <td>[]</td>\n",
       "    </tr>\n",
       "    <tr>\n",
       "      <th>4</th>\n",
       "      <td>4</td>\n",
       "      <td>2000</td>\n",
       "      <td>LaLiga</td>\n",
       "      <td>Málaga CF</td>\n",
       "      <td>28</td>\n",
       "      <td>26.4</td>\n",
       "      <td>9</td>\n",
       "      <td>-</td>\n",
       "      <td>-</td>\n",
       "      <td>[]</td>\n",
       "    </tr>\n",
       "    <tr>\n",
       "      <th>...</th>\n",
       "      <td>...</td>\n",
       "      <td>...</td>\n",
       "      <td>...</td>\n",
       "      <td>...</td>\n",
       "      <td>...</td>\n",
       "      <td>...</td>\n",
       "      <td>...</td>\n",
       "      <td>...</td>\n",
       "      <td>...</td>\n",
       "      <td>...</td>\n",
       "    </tr>\n",
       "    <tr>\n",
       "      <th>495</th>\n",
       "      <td>495</td>\n",
       "      <td>2024</td>\n",
       "      <td>LaLiga</td>\n",
       "      <td>RCD Espanyol Barcelona</td>\n",
       "      <td>26</td>\n",
       "      <td>26.6</td>\n",
       "      <td>9</td>\n",
       "      <td>€3.05m</td>\n",
       "      <td>€79.30m</td>\n",
       "      <td>[]</td>\n",
       "    </tr>\n",
       "    <tr>\n",
       "      <th>496</th>\n",
       "      <td>496</td>\n",
       "      <td>2024</td>\n",
       "      <td>LaLiga</td>\n",
       "      <td>Getafe CF</td>\n",
       "      <td>24</td>\n",
       "      <td>26.5</td>\n",
       "      <td>13</td>\n",
       "      <td>€3.08m</td>\n",
       "      <td>€74.00m</td>\n",
       "      <td>[]</td>\n",
       "    </tr>\n",
       "    <tr>\n",
       "      <th>497</th>\n",
       "      <td>497</td>\n",
       "      <td>2024</td>\n",
       "      <td>LaLiga</td>\n",
       "      <td>Rayo Vallecano</td>\n",
       "      <td>26</td>\n",
       "      <td>29.7</td>\n",
       "      <td>10</td>\n",
       "      <td>€2.74m</td>\n",
       "      <td>€71.30m</td>\n",
       "      <td>[]</td>\n",
       "    </tr>\n",
       "    <tr>\n",
       "      <th>498</th>\n",
       "      <td>498</td>\n",
       "      <td>2024</td>\n",
       "      <td>LaLiga</td>\n",
       "      <td>CD Leganés</td>\n",
       "      <td>25</td>\n",
       "      <td>27.3</td>\n",
       "      <td>11</td>\n",
       "      <td>€2.25m</td>\n",
       "      <td>€56.33m</td>\n",
       "      <td>['Spanish 2nd tier champion 23/24']</td>\n",
       "    </tr>\n",
       "    <tr>\n",
       "      <th>499</th>\n",
       "      <td>499</td>\n",
       "      <td>2024</td>\n",
       "      <td>LaLiga</td>\n",
       "      <td>Real Valladolid CF</td>\n",
       "      <td>25</td>\n",
       "      <td>26.6</td>\n",
       "      <td>14</td>\n",
       "      <td>€1.77m</td>\n",
       "      <td>€44.20m</td>\n",
       "      <td>[]</td>\n",
       "    </tr>\n",
       "  </tbody>\n",
       "</table>\n",
       "<p>500 rows × 10 columns</p>\n",
       "</div>"
      ],
      "text/plain": [
       "     Unnamed: 0  year  league                    team  squad_depth  avg_age  \\\n",
       "0             0  2000  LaLiga           Real Sociedad           32     26.1   \n",
       "1             1  2000  LaLiga             Real Oviedo           32     25.8   \n",
       "2             2  2000  LaLiga             CD Numancia           27     27.5   \n",
       "3             3  2000  LaLiga        Deportivo Alavés           27     26.6   \n",
       "4             4  2000  LaLiga               Málaga CF           28     26.4   \n",
       "..          ...   ...     ...                     ...          ...      ...   \n",
       "495         495  2024  LaLiga  RCD Espanyol Barcelona           26     26.6   \n",
       "496         496  2024  LaLiga               Getafe CF           24     26.5   \n",
       "497         497  2024  LaLiga          Rayo Vallecano           26     29.7   \n",
       "498         498  2024  LaLiga              CD Leganés           25     27.3   \n",
       "499         499  2024  LaLiga      Real Valladolid CF           25     26.6   \n",
       "\n",
       "     foreigners avg_market_value market_value  \\\n",
       "0            10                -            -   \n",
       "1            13                -            -   \n",
       "2             7                -            -   \n",
       "3            13                -            -   \n",
       "4             9                -            -   \n",
       "..          ...              ...          ...   \n",
       "495           9           €3.05m      €79.30m   \n",
       "496          13           €3.08m      €74.00m   \n",
       "497          10           €2.74m      €71.30m   \n",
       "498          11           €2.25m      €56.33m   \n",
       "499          14           €1.77m      €44.20m   \n",
       "\n",
       "                                  titles  \n",
       "0                                     []  \n",
       "1                                     []  \n",
       "2                                     []  \n",
       "3                                     []  \n",
       "4                                     []  \n",
       "..                                   ...  \n",
       "495                                   []  \n",
       "496                                   []  \n",
       "497                                   []  \n",
       "498  ['Spanish 2nd tier champion 23/24']  \n",
       "499                                   []  \n",
       "\n",
       "[500 rows x 10 columns]"
      ]
     },
     "execution_count": 4,
     "metadata": {},
     "output_type": "execute_result"
    }
   ],
   "source": [
    "df_laliga"
   ]
  },
  {
   "cell_type": "code",
   "execution_count": 5,
   "metadata": {},
   "outputs": [
    {
     "data": {
      "text/plain": [
       "Unnamed: 0            int64\n",
       "year                  int64\n",
       "league               object\n",
       "team                 object\n",
       "squad_depth           int64\n",
       "avg_age             float64\n",
       "foreigners            int64\n",
       "avg_market_value     object\n",
       "market_value         object\n",
       "titles               object\n",
       "dtype: object"
      ]
     },
     "execution_count": 5,
     "metadata": {},
     "output_type": "execute_result"
    }
   ],
   "source": [
    "df_laliga.dtypes"
   ]
  },
  {
   "cell_type": "code",
   "execution_count": 6,
   "metadata": {},
   "outputs": [
    {
     "data": {
      "text/plain": [
       "array(['Real Sociedad', 'Real Oviedo', 'CD Numancia', 'Deportivo Alavés',\n",
       "       'Málaga CF', 'Villarreal CF', 'Valencia CF', 'Celta de Vigo',\n",
       "       'Deportivo de La Coruña', 'RCD Espanyol Barcelona', 'FC Barcelona',\n",
       "       'Racing Santander', 'Athletic Bilbao', 'UD Las Palmas',\n",
       "       'Real Madrid', 'Rayo Vallecano', 'Real Valladolid CF',\n",
       "       'CA Osasuna', 'RCD Mallorca', 'Real Zaragoza', 'CD Tenerife',\n",
       "       'Sevilla FC', 'Real Betis Balompié', 'Recreativo Huelva',\n",
       "       'Atlético de Madrid', 'Albacete Balompié', 'Real Murcia CF',\n",
       "       'Levante UD', 'Getafe CF', 'Cádiz CF', 'Gimnàstic de Tarragona',\n",
       "       'UD Almería', 'Sporting Gijón', 'Xerez CD', 'Hércules CF',\n",
       "       'Granada CF', 'Elche CF', 'Córdoba CF', 'SD Eibar', 'CD Leganés',\n",
       "       'Girona FC', 'SD Huesca'], dtype=object)"
      ]
     },
     "execution_count": 6,
     "metadata": {},
     "output_type": "execute_result"
    }
   ],
   "source": [
    "df_laliga[\"team\"].unique()"
   ]
  },
  {
   "cell_type": "code",
   "execution_count": 7,
   "metadata": {},
   "outputs": [
    {
     "data": {
      "text/html": [
       "<div>\n",
       "<style scoped>\n",
       "    .dataframe tbody tr th:only-of-type {\n",
       "        vertical-align: middle;\n",
       "    }\n",
       "\n",
       "    .dataframe tbody tr th {\n",
       "        vertical-align: top;\n",
       "    }\n",
       "\n",
       "    .dataframe thead th {\n",
       "        text-align: right;\n",
       "    }\n",
       "</style>\n",
       "<table border=\"1\" class=\"dataframe\">\n",
       "  <thead>\n",
       "    <tr style=\"text-align: right;\">\n",
       "      <th></th>\n",
       "      <th>year</th>\n",
       "      <th>league</th>\n",
       "      <th>team</th>\n",
       "      <th>squad_depth</th>\n",
       "      <th>avg_age</th>\n",
       "      <th>foreigners</th>\n",
       "      <th>avg_market_value</th>\n",
       "      <th>market_value</th>\n",
       "      <th>titles</th>\n",
       "    </tr>\n",
       "  </thead>\n",
       "  <tbody>\n",
       "    <tr>\n",
       "      <th>0</th>\n",
       "      <td>2000</td>\n",
       "      <td>LaLiga</td>\n",
       "      <td>Real Sociedad</td>\n",
       "      <td>32</td>\n",
       "      <td>26.1</td>\n",
       "      <td>10</td>\n",
       "      <td>NaN</td>\n",
       "      <td>NaN</td>\n",
       "      <td>[]</td>\n",
       "    </tr>\n",
       "    <tr>\n",
       "      <th>1</th>\n",
       "      <td>2000</td>\n",
       "      <td>LaLiga</td>\n",
       "      <td>Real Oviedo</td>\n",
       "      <td>32</td>\n",
       "      <td>25.8</td>\n",
       "      <td>13</td>\n",
       "      <td>NaN</td>\n",
       "      <td>NaN</td>\n",
       "      <td>[]</td>\n",
       "    </tr>\n",
       "    <tr>\n",
       "      <th>2</th>\n",
       "      <td>2000</td>\n",
       "      <td>LaLiga</td>\n",
       "      <td>CD Numancia</td>\n",
       "      <td>27</td>\n",
       "      <td>27.5</td>\n",
       "      <td>7</td>\n",
       "      <td>NaN</td>\n",
       "      <td>NaN</td>\n",
       "      <td>[]</td>\n",
       "    </tr>\n",
       "    <tr>\n",
       "      <th>3</th>\n",
       "      <td>2000</td>\n",
       "      <td>LaLiga</td>\n",
       "      <td>Deportivo Alavés</td>\n",
       "      <td>27</td>\n",
       "      <td>26.6</td>\n",
       "      <td>13</td>\n",
       "      <td>NaN</td>\n",
       "      <td>NaN</td>\n",
       "      <td>[]</td>\n",
       "    </tr>\n",
       "    <tr>\n",
       "      <th>4</th>\n",
       "      <td>2000</td>\n",
       "      <td>LaLiga</td>\n",
       "      <td>Málaga CF</td>\n",
       "      <td>28</td>\n",
       "      <td>26.4</td>\n",
       "      <td>9</td>\n",
       "      <td>NaN</td>\n",
       "      <td>NaN</td>\n",
       "      <td>[]</td>\n",
       "    </tr>\n",
       "    <tr>\n",
       "      <th>...</th>\n",
       "      <td>...</td>\n",
       "      <td>...</td>\n",
       "      <td>...</td>\n",
       "      <td>...</td>\n",
       "      <td>...</td>\n",
       "      <td>...</td>\n",
       "      <td>...</td>\n",
       "      <td>...</td>\n",
       "      <td>...</td>\n",
       "    </tr>\n",
       "    <tr>\n",
       "      <th>495</th>\n",
       "      <td>2024</td>\n",
       "      <td>LaLiga</td>\n",
       "      <td>RCD Espanyol Barcelona</td>\n",
       "      <td>26</td>\n",
       "      <td>26.6</td>\n",
       "      <td>9</td>\n",
       "      <td>3050000.0</td>\n",
       "      <td>79300000.0</td>\n",
       "      <td>[]</td>\n",
       "    </tr>\n",
       "    <tr>\n",
       "      <th>496</th>\n",
       "      <td>2024</td>\n",
       "      <td>LaLiga</td>\n",
       "      <td>Getafe CF</td>\n",
       "      <td>24</td>\n",
       "      <td>26.5</td>\n",
       "      <td>13</td>\n",
       "      <td>3080000.0</td>\n",
       "      <td>74000000.0</td>\n",
       "      <td>[]</td>\n",
       "    </tr>\n",
       "    <tr>\n",
       "      <th>497</th>\n",
       "      <td>2024</td>\n",
       "      <td>LaLiga</td>\n",
       "      <td>Rayo Vallecano</td>\n",
       "      <td>26</td>\n",
       "      <td>29.7</td>\n",
       "      <td>10</td>\n",
       "      <td>2740000.0</td>\n",
       "      <td>71300000.0</td>\n",
       "      <td>[]</td>\n",
       "    </tr>\n",
       "    <tr>\n",
       "      <th>498</th>\n",
       "      <td>2024</td>\n",
       "      <td>LaLiga</td>\n",
       "      <td>CD Leganés</td>\n",
       "      <td>25</td>\n",
       "      <td>27.3</td>\n",
       "      <td>11</td>\n",
       "      <td>2250000.0</td>\n",
       "      <td>56330000.0</td>\n",
       "      <td>['Spanish 2nd tier champion 23/24']</td>\n",
       "    </tr>\n",
       "    <tr>\n",
       "      <th>499</th>\n",
       "      <td>2024</td>\n",
       "      <td>LaLiga</td>\n",
       "      <td>Real Valladolid CF</td>\n",
       "      <td>25</td>\n",
       "      <td>26.6</td>\n",
       "      <td>14</td>\n",
       "      <td>1770000.0</td>\n",
       "      <td>44200000.0</td>\n",
       "      <td>[]</td>\n",
       "    </tr>\n",
       "  </tbody>\n",
       "</table>\n",
       "<p>500 rows × 9 columns</p>\n",
       "</div>"
      ],
      "text/plain": [
       "     year  league                    team  squad_depth  avg_age  foreigners  \\\n",
       "0    2000  LaLiga           Real Sociedad           32     26.1          10   \n",
       "1    2000  LaLiga             Real Oviedo           32     25.8          13   \n",
       "2    2000  LaLiga             CD Numancia           27     27.5           7   \n",
       "3    2000  LaLiga        Deportivo Alavés           27     26.6          13   \n",
       "4    2000  LaLiga               Málaga CF           28     26.4           9   \n",
       "..    ...     ...                     ...          ...      ...         ...   \n",
       "495  2024  LaLiga  RCD Espanyol Barcelona           26     26.6           9   \n",
       "496  2024  LaLiga               Getafe CF           24     26.5          13   \n",
       "497  2024  LaLiga          Rayo Vallecano           26     29.7          10   \n",
       "498  2024  LaLiga              CD Leganés           25     27.3          11   \n",
       "499  2024  LaLiga      Real Valladolid CF           25     26.6          14   \n",
       "\n",
       "     avg_market_value  market_value                               titles  \n",
       "0                 NaN           NaN                                   []  \n",
       "1                 NaN           NaN                                   []  \n",
       "2                 NaN           NaN                                   []  \n",
       "3                 NaN           NaN                                   []  \n",
       "4                 NaN           NaN                                   []  \n",
       "..                ...           ...                                  ...  \n",
       "495         3050000.0    79300000.0                                   []  \n",
       "496         3080000.0    74000000.0                                   []  \n",
       "497         2740000.0    71300000.0                                   []  \n",
       "498         2250000.0    56330000.0  ['Spanish 2nd tier champion 23/24']  \n",
       "499         1770000.0    44200000.0                                   []  \n",
       "\n",
       "[500 rows x 9 columns]"
      ]
     },
     "execution_count": 7,
     "metadata": {},
     "output_type": "execute_result"
    }
   ],
   "source": [
    "df_laliga = df_laliga.drop(columns=[\"Unnamed: 0\"])\n",
    "\n",
    "# Convertir de dato Transfermarkt a numericos\n",
    "df_laliga[\"market_value\"] = df_laliga[\"market_value\"].apply(convertir_valor)\n",
    "df_laliga[\"avg_market_value\"] = df_laliga[\"avg_market_value\"].apply(convertir_valor)\n",
    "\n",
    "df_laliga[\"market_value\"] = df_laliga[\"market_value\"].apply(modificar_valores_nulos)\n",
    "df_laliga[\"avg_market_value\"] = df_laliga[\"avg_market_value\"].apply(modificar_valores_nulos)\n",
    "\n",
    "df_laliga"
   ]
  },
  {
   "cell_type": "code",
   "execution_count": 8,
   "metadata": {},
   "outputs": [
    {
     "data": {
      "text/plain": [
       "year                  int64\n",
       "league               object\n",
       "team                 object\n",
       "squad_depth           int64\n",
       "avg_age             float64\n",
       "foreigners            int64\n",
       "avg_market_value    float64\n",
       "market_value        float64\n",
       "titles               object\n",
       "dtype: object"
      ]
     },
     "execution_count": 8,
     "metadata": {},
     "output_type": "execute_result"
    }
   ],
   "source": [
    "df_laliga.dtypes"
   ]
  },
  {
   "cell_type": "code",
   "execution_count": null,
   "metadata": {},
   "outputs": [],
   "source": [
    "def show_financial_chart(teams=['Real Madrid', 'FC Barcelona']):\n",
    "    df_historic = df_laliga[df_laliga[\"team\"].isin(teams)].dropna()\n",
    "\n",
    "    # Crear gráfico de líneas para los equipos seleccionados (https://plotly.com/python/time-series/)\n",
    "    fig = px.line(df_historic, x='year', y='market_value', color='team', \n",
    "                  title=\"Market Value of Teams Over Time\")\n",
    "    fig.show()\n",
    "\n"
   ]
  },
  {
   "cell_type": "code",
   "execution_count": 23,
   "metadata": {},
   "outputs": [
    {
     "data": {
      "application/vnd.plotly.v1+json": {
       "config": {
        "plotlyServerURL": "https://plot.ly"
       },
       "data": [
        {
         "hovertemplate": "team=Real Madrid<br>year=%{x}<br>market_value=%{y}<extra></extra>",
         "legendgroup": "Real Madrid",
         "line": {
          "color": "#636efa",
          "dash": "solid"
         },
         "marker": {
          "symbol": "circle"
         },
         "mode": "lines",
         "name": "Real Madrid",
         "orientation": "v",
         "showlegend": true,
         "type": "scatter",
         "x": [
          2004,
          2005,
          2006,
          2007,
          2008,
          2009,
          2010,
          2011,
          2012,
          2013,
          2014,
          2015,
          2016,
          2017,
          2018,
          2019,
          2020,
          2021,
          2022,
          2023,
          2024
         ],
         "xaxis": "x",
         "y": [
          303700000,
          281600000,
          372200000,
          355800000,
          428600000,
          451700000,
          519000000,
          539200000,
          582400000,
          636800000,
          787800000,
          714300000,
          802900000,
          955350000,
          896100000,
          913750000,
          787300000,
          770750000,
          923450000,
          1140000000,
          1360000000
         ],
         "yaxis": "y"
        },
        {
         "hovertemplate": "team=FC Barcelona<br>year=%{x}<br>market_value=%{y}<extra></extra>",
         "legendgroup": "FC Barcelona",
         "line": {
          "color": "#EF553B",
          "dash": "solid"
         },
         "marker": {
          "symbol": "circle"
         },
         "mode": "lines",
         "name": "FC Barcelona",
         "orientation": "v",
         "showlegend": true,
         "type": "scatter",
         "x": [
          2004,
          2005,
          2006,
          2007,
          2008,
          2009,
          2010,
          2011,
          2012,
          2013,
          2014,
          2015,
          2016,
          2017,
          2018,
          2019,
          2020,
          2021,
          2022,
          2023,
          2024
         ],
         "xaxis": "x",
         "y": [
          273030000,
          327500000,
          366500000,
          413700000,
          425400000,
          515400000,
          604700000,
          618200000,
          586600000,
          592200000,
          603800000,
          726000000,
          765300000,
          1090000000,
          1160000000,
          930280000,
          813500000,
          735600000,
          836800000,
          916200000,
          946000000
         ],
         "yaxis": "y"
        },
        {
         "hovertemplate": "team=Valencia CF<br>year=%{x}<br>market_value=%{y}<extra></extra>",
         "legendgroup": "Valencia CF",
         "line": {
          "color": "#00cc96",
          "dash": "solid"
         },
         "marker": {
          "symbol": "circle"
         },
         "mode": "lines",
         "name": "Valencia CF",
         "orientation": "v",
         "showlegend": true,
         "type": "scatter",
         "x": [
          2004,
          2005,
          2006,
          2007,
          2008,
          2009,
          2010,
          2011,
          2012,
          2013,
          2014,
          2015,
          2016,
          2017,
          2018,
          2019,
          2020,
          2021,
          2022,
          2023,
          2024
         ],
         "xaxis": "x",
         "y": [
          195900000,
          213550000,
          232700000,
          236500000,
          227500000,
          240000000,
          176600000,
          181000000,
          172900000,
          178800000,
          230000000,
          254000000,
          257500000,
          398050000,
          499650000,
          427800000,
          278850000,
          310600000,
          249780000,
          244730000,
          253000000
         ],
         "yaxis": "y"
        },
        {
         "hovertemplate": "team=Atlético de Madrid<br>year=%{x}<br>market_value=%{y}<extra></extra>",
         "legendgroup": "Atlético de Madrid",
         "line": {
          "color": "#ab63fa",
          "dash": "solid"
         },
         "marker": {
          "symbol": "circle"
         },
         "mode": "lines",
         "name": "Atlético de Madrid",
         "orientation": "v",
         "showlegend": true,
         "type": "scatter",
         "x": [
          2004,
          2005,
          2006,
          2007,
          2008,
          2009,
          2010,
          2011,
          2012,
          2013,
          2014,
          2015,
          2016,
          2017,
          2018,
          2019,
          2020,
          2021,
          2022,
          2023,
          2024
         ],
         "xaxis": "x",
         "y": [
          125650000,
          134150000,
          174000000,
          211700000,
          221400000,
          210800000,
          187000000,
          210000000,
          267000000,
          308800000,
          356000000,
          418500000,
          515799999,
          711150000,
          969700000,
          720150000,
          773100000,
          661800000,
          534299999,
          458450000,
          511000000
         ],
         "yaxis": "y"
        },
        {
         "hovertemplate": "team=Athletic Bilbao<br>year=%{x}<br>market_value=%{y}<extra></extra>",
         "legendgroup": "Athletic Bilbao",
         "line": {
          "color": "#FFA15A",
          "dash": "solid"
         },
         "marker": {
          "symbol": "circle"
         },
         "mode": "lines",
         "name": "Athletic Bilbao",
         "orientation": "v",
         "showlegend": true,
         "type": "scatter",
         "x": [
          2004,
          2005,
          2006,
          2007,
          2008,
          2009,
          2010,
          2011,
          2012,
          2013,
          2014,
          2015,
          2016,
          2017,
          2018,
          2019,
          2020,
          2021,
          2022,
          2023,
          2024
         ],
         "xaxis": "x",
         "y": [
          53050000,
          47230000,
          54900000,
          75000000,
          77600000,
          100800000,
          112000000,
          144200000,
          119850000,
          130699999,
          112100000,
          148000000,
          172600000,
          249400000,
          234250000,
          211750000,
          204150000,
          226050000,
          222450000,
          295650000,
          338700000
         ],
         "yaxis": "y"
        }
       ],
       "layout": {
        "legend": {
         "title": {
          "text": "team"
         },
         "tracegroupgap": 0
        },
        "template": {
         "data": {
          "bar": [
           {
            "error_x": {
             "color": "#2a3f5f"
            },
            "error_y": {
             "color": "#2a3f5f"
            },
            "marker": {
             "line": {
              "color": "#E5ECF6",
              "width": 0.5
             },
             "pattern": {
              "fillmode": "overlay",
              "size": 10,
              "solidity": 0.2
             }
            },
            "type": "bar"
           }
          ],
          "barpolar": [
           {
            "marker": {
             "line": {
              "color": "#E5ECF6",
              "width": 0.5
             },
             "pattern": {
              "fillmode": "overlay",
              "size": 10,
              "solidity": 0.2
             }
            },
            "type": "barpolar"
           }
          ],
          "carpet": [
           {
            "aaxis": {
             "endlinecolor": "#2a3f5f",
             "gridcolor": "white",
             "linecolor": "white",
             "minorgridcolor": "white",
             "startlinecolor": "#2a3f5f"
            },
            "baxis": {
             "endlinecolor": "#2a3f5f",
             "gridcolor": "white",
             "linecolor": "white",
             "minorgridcolor": "white",
             "startlinecolor": "#2a3f5f"
            },
            "type": "carpet"
           }
          ],
          "choropleth": [
           {
            "colorbar": {
             "outlinewidth": 0,
             "ticks": ""
            },
            "type": "choropleth"
           }
          ],
          "contour": [
           {
            "colorbar": {
             "outlinewidth": 0,
             "ticks": ""
            },
            "colorscale": [
             [
              0,
              "#0d0887"
             ],
             [
              0.1111111111111111,
              "#46039f"
             ],
             [
              0.2222222222222222,
              "#7201a8"
             ],
             [
              0.3333333333333333,
              "#9c179e"
             ],
             [
              0.4444444444444444,
              "#bd3786"
             ],
             [
              0.5555555555555556,
              "#d8576b"
             ],
             [
              0.6666666666666666,
              "#ed7953"
             ],
             [
              0.7777777777777778,
              "#fb9f3a"
             ],
             [
              0.8888888888888888,
              "#fdca26"
             ],
             [
              1,
              "#f0f921"
             ]
            ],
            "type": "contour"
           }
          ],
          "contourcarpet": [
           {
            "colorbar": {
             "outlinewidth": 0,
             "ticks": ""
            },
            "type": "contourcarpet"
           }
          ],
          "heatmap": [
           {
            "colorbar": {
             "outlinewidth": 0,
             "ticks": ""
            },
            "colorscale": [
             [
              0,
              "#0d0887"
             ],
             [
              0.1111111111111111,
              "#46039f"
             ],
             [
              0.2222222222222222,
              "#7201a8"
             ],
             [
              0.3333333333333333,
              "#9c179e"
             ],
             [
              0.4444444444444444,
              "#bd3786"
             ],
             [
              0.5555555555555556,
              "#d8576b"
             ],
             [
              0.6666666666666666,
              "#ed7953"
             ],
             [
              0.7777777777777778,
              "#fb9f3a"
             ],
             [
              0.8888888888888888,
              "#fdca26"
             ],
             [
              1,
              "#f0f921"
             ]
            ],
            "type": "heatmap"
           }
          ],
          "heatmapgl": [
           {
            "colorbar": {
             "outlinewidth": 0,
             "ticks": ""
            },
            "colorscale": [
             [
              0,
              "#0d0887"
             ],
             [
              0.1111111111111111,
              "#46039f"
             ],
             [
              0.2222222222222222,
              "#7201a8"
             ],
             [
              0.3333333333333333,
              "#9c179e"
             ],
             [
              0.4444444444444444,
              "#bd3786"
             ],
             [
              0.5555555555555556,
              "#d8576b"
             ],
             [
              0.6666666666666666,
              "#ed7953"
             ],
             [
              0.7777777777777778,
              "#fb9f3a"
             ],
             [
              0.8888888888888888,
              "#fdca26"
             ],
             [
              1,
              "#f0f921"
             ]
            ],
            "type": "heatmapgl"
           }
          ],
          "histogram": [
           {
            "marker": {
             "pattern": {
              "fillmode": "overlay",
              "size": 10,
              "solidity": 0.2
             }
            },
            "type": "histogram"
           }
          ],
          "histogram2d": [
           {
            "colorbar": {
             "outlinewidth": 0,
             "ticks": ""
            },
            "colorscale": [
             [
              0,
              "#0d0887"
             ],
             [
              0.1111111111111111,
              "#46039f"
             ],
             [
              0.2222222222222222,
              "#7201a8"
             ],
             [
              0.3333333333333333,
              "#9c179e"
             ],
             [
              0.4444444444444444,
              "#bd3786"
             ],
             [
              0.5555555555555556,
              "#d8576b"
             ],
             [
              0.6666666666666666,
              "#ed7953"
             ],
             [
              0.7777777777777778,
              "#fb9f3a"
             ],
             [
              0.8888888888888888,
              "#fdca26"
             ],
             [
              1,
              "#f0f921"
             ]
            ],
            "type": "histogram2d"
           }
          ],
          "histogram2dcontour": [
           {
            "colorbar": {
             "outlinewidth": 0,
             "ticks": ""
            },
            "colorscale": [
             [
              0,
              "#0d0887"
             ],
             [
              0.1111111111111111,
              "#46039f"
             ],
             [
              0.2222222222222222,
              "#7201a8"
             ],
             [
              0.3333333333333333,
              "#9c179e"
             ],
             [
              0.4444444444444444,
              "#bd3786"
             ],
             [
              0.5555555555555556,
              "#d8576b"
             ],
             [
              0.6666666666666666,
              "#ed7953"
             ],
             [
              0.7777777777777778,
              "#fb9f3a"
             ],
             [
              0.8888888888888888,
              "#fdca26"
             ],
             [
              1,
              "#f0f921"
             ]
            ],
            "type": "histogram2dcontour"
           }
          ],
          "mesh3d": [
           {
            "colorbar": {
             "outlinewidth": 0,
             "ticks": ""
            },
            "type": "mesh3d"
           }
          ],
          "parcoords": [
           {
            "line": {
             "colorbar": {
              "outlinewidth": 0,
              "ticks": ""
             }
            },
            "type": "parcoords"
           }
          ],
          "pie": [
           {
            "automargin": true,
            "type": "pie"
           }
          ],
          "scatter": [
           {
            "fillpattern": {
             "fillmode": "overlay",
             "size": 10,
             "solidity": 0.2
            },
            "type": "scatter"
           }
          ],
          "scatter3d": [
           {
            "line": {
             "colorbar": {
              "outlinewidth": 0,
              "ticks": ""
             }
            },
            "marker": {
             "colorbar": {
              "outlinewidth": 0,
              "ticks": ""
             }
            },
            "type": "scatter3d"
           }
          ],
          "scattercarpet": [
           {
            "marker": {
             "colorbar": {
              "outlinewidth": 0,
              "ticks": ""
             }
            },
            "type": "scattercarpet"
           }
          ],
          "scattergeo": [
           {
            "marker": {
             "colorbar": {
              "outlinewidth": 0,
              "ticks": ""
             }
            },
            "type": "scattergeo"
           }
          ],
          "scattergl": [
           {
            "marker": {
             "colorbar": {
              "outlinewidth": 0,
              "ticks": ""
             }
            },
            "type": "scattergl"
           }
          ],
          "scattermapbox": [
           {
            "marker": {
             "colorbar": {
              "outlinewidth": 0,
              "ticks": ""
             }
            },
            "type": "scattermapbox"
           }
          ],
          "scatterpolar": [
           {
            "marker": {
             "colorbar": {
              "outlinewidth": 0,
              "ticks": ""
             }
            },
            "type": "scatterpolar"
           }
          ],
          "scatterpolargl": [
           {
            "marker": {
             "colorbar": {
              "outlinewidth": 0,
              "ticks": ""
             }
            },
            "type": "scatterpolargl"
           }
          ],
          "scatterternary": [
           {
            "marker": {
             "colorbar": {
              "outlinewidth": 0,
              "ticks": ""
             }
            },
            "type": "scatterternary"
           }
          ],
          "surface": [
           {
            "colorbar": {
             "outlinewidth": 0,
             "ticks": ""
            },
            "colorscale": [
             [
              0,
              "#0d0887"
             ],
             [
              0.1111111111111111,
              "#46039f"
             ],
             [
              0.2222222222222222,
              "#7201a8"
             ],
             [
              0.3333333333333333,
              "#9c179e"
             ],
             [
              0.4444444444444444,
              "#bd3786"
             ],
             [
              0.5555555555555556,
              "#d8576b"
             ],
             [
              0.6666666666666666,
              "#ed7953"
             ],
             [
              0.7777777777777778,
              "#fb9f3a"
             ],
             [
              0.8888888888888888,
              "#fdca26"
             ],
             [
              1,
              "#f0f921"
             ]
            ],
            "type": "surface"
           }
          ],
          "table": [
           {
            "cells": {
             "fill": {
              "color": "#EBF0F8"
             },
             "line": {
              "color": "white"
             }
            },
            "header": {
             "fill": {
              "color": "#C8D4E3"
             },
             "line": {
              "color": "white"
             }
            },
            "type": "table"
           }
          ]
         },
         "layout": {
          "annotationdefaults": {
           "arrowcolor": "#2a3f5f",
           "arrowhead": 0,
           "arrowwidth": 1
          },
          "autotypenumbers": "strict",
          "coloraxis": {
           "colorbar": {
            "outlinewidth": 0,
            "ticks": ""
           }
          },
          "colorscale": {
           "diverging": [
            [
             0,
             "#8e0152"
            ],
            [
             0.1,
             "#c51b7d"
            ],
            [
             0.2,
             "#de77ae"
            ],
            [
             0.3,
             "#f1b6da"
            ],
            [
             0.4,
             "#fde0ef"
            ],
            [
             0.5,
             "#f7f7f7"
            ],
            [
             0.6,
             "#e6f5d0"
            ],
            [
             0.7,
             "#b8e186"
            ],
            [
             0.8,
             "#7fbc41"
            ],
            [
             0.9,
             "#4d9221"
            ],
            [
             1,
             "#276419"
            ]
           ],
           "sequential": [
            [
             0,
             "#0d0887"
            ],
            [
             0.1111111111111111,
             "#46039f"
            ],
            [
             0.2222222222222222,
             "#7201a8"
            ],
            [
             0.3333333333333333,
             "#9c179e"
            ],
            [
             0.4444444444444444,
             "#bd3786"
            ],
            [
             0.5555555555555556,
             "#d8576b"
            ],
            [
             0.6666666666666666,
             "#ed7953"
            ],
            [
             0.7777777777777778,
             "#fb9f3a"
            ],
            [
             0.8888888888888888,
             "#fdca26"
            ],
            [
             1,
             "#f0f921"
            ]
           ],
           "sequentialminus": [
            [
             0,
             "#0d0887"
            ],
            [
             0.1111111111111111,
             "#46039f"
            ],
            [
             0.2222222222222222,
             "#7201a8"
            ],
            [
             0.3333333333333333,
             "#9c179e"
            ],
            [
             0.4444444444444444,
             "#bd3786"
            ],
            [
             0.5555555555555556,
             "#d8576b"
            ],
            [
             0.6666666666666666,
             "#ed7953"
            ],
            [
             0.7777777777777778,
             "#fb9f3a"
            ],
            [
             0.8888888888888888,
             "#fdca26"
            ],
            [
             1,
             "#f0f921"
            ]
           ]
          },
          "colorway": [
           "#636efa",
           "#EF553B",
           "#00cc96",
           "#ab63fa",
           "#FFA15A",
           "#19d3f3",
           "#FF6692",
           "#B6E880",
           "#FF97FF",
           "#FECB52"
          ],
          "font": {
           "color": "#2a3f5f"
          },
          "geo": {
           "bgcolor": "white",
           "lakecolor": "white",
           "landcolor": "#E5ECF6",
           "showlakes": true,
           "showland": true,
           "subunitcolor": "white"
          },
          "hoverlabel": {
           "align": "left"
          },
          "hovermode": "closest",
          "mapbox": {
           "style": "light"
          },
          "paper_bgcolor": "white",
          "plot_bgcolor": "#E5ECF6",
          "polar": {
           "angularaxis": {
            "gridcolor": "white",
            "linecolor": "white",
            "ticks": ""
           },
           "bgcolor": "#E5ECF6",
           "radialaxis": {
            "gridcolor": "white",
            "linecolor": "white",
            "ticks": ""
           }
          },
          "scene": {
           "xaxis": {
            "backgroundcolor": "#E5ECF6",
            "gridcolor": "white",
            "gridwidth": 2,
            "linecolor": "white",
            "showbackground": true,
            "ticks": "",
            "zerolinecolor": "white"
           },
           "yaxis": {
            "backgroundcolor": "#E5ECF6",
            "gridcolor": "white",
            "gridwidth": 2,
            "linecolor": "white",
            "showbackground": true,
            "ticks": "",
            "zerolinecolor": "white"
           },
           "zaxis": {
            "backgroundcolor": "#E5ECF6",
            "gridcolor": "white",
            "gridwidth": 2,
            "linecolor": "white",
            "showbackground": true,
            "ticks": "",
            "zerolinecolor": "white"
           }
          },
          "shapedefaults": {
           "line": {
            "color": "#2a3f5f"
           }
          },
          "ternary": {
           "aaxis": {
            "gridcolor": "white",
            "linecolor": "white",
            "ticks": ""
           },
           "baxis": {
            "gridcolor": "white",
            "linecolor": "white",
            "ticks": ""
           },
           "bgcolor": "#E5ECF6",
           "caxis": {
            "gridcolor": "white",
            "linecolor": "white",
            "ticks": ""
           }
          },
          "title": {
           "x": 0.05
          },
          "xaxis": {
           "automargin": true,
           "gridcolor": "white",
           "linecolor": "white",
           "ticks": "",
           "title": {
            "standoff": 15
           },
           "zerolinecolor": "white",
           "zerolinewidth": 2
          },
          "yaxis": {
           "automargin": true,
           "gridcolor": "white",
           "linecolor": "white",
           "ticks": "",
           "title": {
            "standoff": 15
           },
           "zerolinecolor": "white",
           "zerolinewidth": 2
          }
         }
        },
        "title": {
         "text": "Market Value of Teams Over Time"
        },
        "xaxis": {
         "anchor": "y",
         "domain": [
          0,
          1
         ],
         "title": {
          "text": "year"
         }
        },
        "yaxis": {
         "anchor": "x",
         "domain": [
          0,
          1
         ],
         "title": {
          "text": "market_value"
         }
        }
       }
      }
     },
     "metadata": {},
     "output_type": "display_data"
    }
   ],
   "source": [
    "teams = ['Real Madrid', 'FC Barcelona', 'Atlético de Madrid', 'Athletic Bilbao', 'Valencia CF']\n",
    "show_financial_chart(teams=teams)"
   ]
  },
  {
   "cell_type": "code",
   "execution_count": null,
   "metadata": {},
   "outputs": [],
   "source": []
  }
 ],
 "metadata": {
  "kernelspec": {
   "display_name": "Python 3",
   "language": "python",
   "name": "python3"
  },
  "language_info": {
   "codemirror_mode": {
    "name": "ipython",
    "version": 3
   },
   "file_extension": ".py",
   "mimetype": "text/x-python",
   "name": "python",
   "nbconvert_exporter": "python",
   "pygments_lexer": "ipython3",
   "version": "3.13.0"
  }
 },
 "nbformat": 4,
 "nbformat_minor": 2
}
